{
 "cells": [
  {
   "cell_type": "code",
   "execution_count": 34,
   "id": "83ac5ce8-54f8-4651-8ad6-8bdb7d2693af",
   "metadata": {},
   "outputs": [],
   "source": [
    "import joblib\n",
    "import pandas as pd\n",
    "from sklearn.linear_model import LogisticRegression\n",
    "from sklearn.model_selection import GridSearchCV\n",
    "import warnings \n",
    "warnings.filterwarnings('ignore',category=FutureWarning)\n",
    "warnings.filterwarnings('ignore',category=DeprecationWarning)"
   ]
  },
  {
   "cell_type": "code",
   "execution_count": 35,
   "id": "e425d073-c17f-458f-a1c3-015d1dba4e9b",
   "metadata": {},
   "outputs": [],
   "source": [
    "train_features = pd.read_csv('train_features.csv')\n",
    "train_labels = pd.read_csv('train_labels.csv')"
   ]
  },
  {
   "cell_type": "code",
   "execution_count": 36,
   "id": "99917f62-2566-4671-abf0-a6480e3cfe1a",
   "metadata": {},
   "outputs": [
    {
     "name": "stdout",
     "output_type": "stream",
     "text": [
      "59\n",
      "59\n"
     ]
    }
   ],
   "source": [
    "\n",
    "print(train_features.shape[0])\n",
    "print(train_labels.shape[0])"
   ]
  },
  {
   "cell_type": "code",
   "execution_count": 37,
   "id": "96735560-ff0f-4ec3-8b06-eb9ae47406e3",
   "metadata": {},
   "outputs": [],
   "source": [
    "def print_result(results):\n",
    "    # Display the best parameters found during grid search\n",
    "    print('BEST PARAMETERS: {}\\n'.format(results.best_params_))\n",
    "\n",
    "    # Extract mean test scores, standard deviations, and corresponding parameter sets\n",
    "    mean_scores = results.cv_results_['mean_test_score']\n",
    "    std_scores = results.cv_results_['std_test_score']\n",
    "    parameters = results.cv_results_['params']\n",
    "\n",
    "    # Display mean test scores, along with their standard deviations, for each parameter set\n",
    "    for mean, std, params in zip(mean_scores, std_scores, parameters):\n",
    "        print('{} (+/- {}) for {}'.format(round(mean, 3), round(std * 2, 3), params))\n"
   ]
  },
  {
   "cell_type": "code",
   "execution_count": 39,
   "id": "e48352aa-0c75-4499-a2c2-f7c958837e0f",
   "metadata": {},
   "outputs": [
    {
     "name": "stdout",
     "output_type": "stream",
     "text": [
      "BEST PARAMETERS: {'C': 1}\n",
      "\n",
      "0.525 (+/- 0.041) for {'C': 0.001}\n",
      "0.509 (+/- 0.025) for {'C': 0.01}\n",
      "0.612 (+/- 0.194) for {'C': 0.1}\n",
      "0.647 (+/- 0.275) for {'C': 1}\n",
      "0.628 (+/- 0.114) for {'C': 10}\n",
      "0.628 (+/- 0.114) for {'C': 100}\n",
      "0.611 (+/- 0.087) for {'C': 1000}\n"
     ]
    }
   ],
   "source": [
    "# Create a logistic regression model\n",
    "lr = LogisticRegression(max_iter=1000)\n",
    "\n",
    "\n",
    "# Set up the parameter grid for grid search\n",
    "parameters = {\n",
    "    'C': [0.001, 0.01, 0.1, 1, 10, 100, 1000]\n",
    "}\n",
    "\n",
    "# Perform grid search\n",
    "cv = GridSearchCV(lr, parameters, cv=3)\n",
    "cv.fit(train_features, train_labels.values.ravel())\n",
    "\n",
    "# Display the results\n",
    "print_result(cv)\n"
   ]
  },
  {
   "cell_type": "code",
   "execution_count": 40,
   "id": "43860465-18c6-45d7-b92e-d7c42204449b",
   "metadata": {},
   "outputs": [
    {
     "data": {
      "text/plain": [
       "['LR_model.pkl']"
      ]
     },
     "execution_count": 40,
     "metadata": {},
     "output_type": "execute_result"
    }
   ],
   "source": [
    "joblib.dump(cv.best_estimator_,'LR_model.pkl')"
   ]
  },
  {
   "cell_type": "code",
   "execution_count": null,
   "id": "cf40ecb1-bd2c-4746-86bb-4461d845390c",
   "metadata": {},
   "outputs": [],
   "source": []
  }
 ],
 "metadata": {
  "kernelspec": {
   "display_name": "Python 3 (ipykernel)",
   "language": "python",
   "name": "python3"
  },
  "language_info": {
   "codemirror_mode": {
    "name": "ipython",
    "version": 3
   },
   "file_extension": ".py",
   "mimetype": "text/x-python",
   "name": "python",
   "nbconvert_exporter": "python",
   "pygments_lexer": "ipython3",
   "version": "3.11.5"
  }
 },
 "nbformat": 4,
 "nbformat_minor": 5
}
