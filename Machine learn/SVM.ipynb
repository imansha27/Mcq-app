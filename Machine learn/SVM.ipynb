{
 "cells": [
  {
   "cell_type": "code",
   "execution_count": 1,
   "id": "6420deda-51f5-40a6-926b-1ce74736fd18",
   "metadata": {},
   "outputs": [],
   "source": [
    "import joblib\n",
    "import pandas as pd\n",
    "from sklearn.svm import SVC\n",
    "from sklearn.model_selection import GridSearchCV\n",
    "import warnings \n",
    "warnings.filterwarnings('ignore',category=FutureWarning)\n",
    "warnings.filterwarnings('ignore',category=DeprecationWarning)"
   ]
  },
  {
   "cell_type": "code",
   "execution_count": 2,
   "id": "8babdcd5-4301-4d14-9417-f9eae679208c",
   "metadata": {},
   "outputs": [],
   "source": [
    "train_features = pd.read_csv('train_features.csv')\n",
    "train_labels = pd.read_csv('train_labels.csv')"
   ]
  },
  {
   "cell_type": "code",
   "execution_count": 3,
   "id": "d38c6ed5-4cb8-4282-8873-f5918a64527c",
   "metadata": {},
   "outputs": [
    {
     "name": "stdout",
     "output_type": "stream",
     "text": [
      "59\n",
      "59\n"
     ]
    }
   ],
   "source": [
    "print(train_features.shape[0])\n",
    "print(train_labels.shape[0])"
   ]
  },
  {
   "cell_type": "code",
   "execution_count": 4,
   "id": "991d1701-e91f-4795-a825-03b1bfd2ed1e",
   "metadata": {},
   "outputs": [],
   "source": [
    "def print_result(results):\n",
    "    # Display the best parameters found during grid search\n",
    "    print('BEST PARAMETERS: {}\\n'.format(results.best_params_))\n",
    "\n",
    "    # Extract mean test scores, standard deviations, and corresponding parameter sets\n",
    "    mean_scores = results.cv_results_['mean_test_score']\n",
    "    std_scores = results.cv_results_['std_test_score']\n",
    "    parameters = results.cv_results_['params']\n",
    "\n",
    "    # Display mean test scores, along with their standard deviations, for each parameter set\n",
    "    for mean, std, params in zip(mean_scores, std_scores, parameters):\n",
    "        print('{} (+/- {}) for {}'.format(round(mean, 3), round(std * 2, 3), params))"
   ]
  },
  {
   "cell_type": "code",
   "execution_count": 6,
   "id": "4932434f-4e9c-4567-aadc-c186e9e5a82c",
   "metadata": {},
   "outputs": [
    {
     "name": "stdout",
     "output_type": "stream",
     "text": [
      "BEST PARAMETERS: {'C': 1, 'kernel': 'linear'}\n",
      "\n",
      "0.578 (+/- 0.194) for {'C': 0.1, 'kernel': 'linear'}\n",
      "0.525 (+/- 0.041) for {'C': 0.1, 'kernel': 'rbf'}\n",
      "0.646 (+/- 0.153) for {'C': 1, 'kernel': 'linear'}\n",
      "0.631 (+/- 0.302) for {'C': 1, 'kernel': 'rbf'}\n",
      "0.56 (+/- 0.086) for {'C': 10, 'kernel': 'linear'}\n",
      "0.611 (+/- 0.111) for {'C': 10, 'kernel': 'rbf'}\n"
     ]
    }
   ],
   "source": [
    "svc = SVC()\n",
    "\n",
    "\n",
    "parameters = {\n",
    "    'kernel': ['linear', 'rbf'],\n",
    "    'C': [0.1, 1, 10]\n",
    "}\n",
    "# Perform grid search\n",
    "cv = GridSearchCV(svc,parameters, cv=3)\n",
    "cv.fit(train_features, train_labels.values.ravel())\n",
    "\n",
    "# Display the results\n",
    "print_result(cv)"
   ]
  },
  {
   "cell_type": "code",
   "execution_count": 7,
   "id": "444eaa56-b690-441a-9332-1e18daa2384f",
   "metadata": {},
   "outputs": [
    {
     "data": {
      "text/plain": [
       "['SVM_model.pkl']"
      ]
     },
     "execution_count": 7,
     "metadata": {},
     "output_type": "execute_result"
    }
   ],
   "source": [
    "joblib.dump(cv.best_estimator_,'SVM_model.pkl')"
   ]
  },
  {
   "cell_type": "code",
   "execution_count": null,
   "id": "355d8449-d596-4f85-9c92-1f446fa2efce",
   "metadata": {},
   "outputs": [],
   "source": []
  }
 ],
 "metadata": {
  "kernelspec": {
   "display_name": "Python 3 (ipykernel)",
   "language": "python",
   "name": "python3"
  },
  "language_info": {
   "codemirror_mode": {
    "name": "ipython",
    "version": 3
   },
   "file_extension": ".py",
   "mimetype": "text/x-python",
   "name": "python",
   "nbconvert_exporter": "python",
   "pygments_lexer": "ipython3",
   "version": "3.11.5"
  }
 },
 "nbformat": 4,
 "nbformat_minor": 5
}
