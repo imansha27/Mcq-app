{
 "cells": [
  {
   "cell_type": "code",
   "execution_count": 5,
   "id": "4e02c216-2aef-4856-aebe-840cdd21b179",
   "metadata": {},
   "outputs": [],
   "source": [
    "import joblib\n",
    "import pandas as pd\n",
    "from sklearn.neighbors import KNeighborsClassifier\n",
    "from sklearn.model_selection import GridSearchCV\n",
    "import warnings \n",
    "warnings.filterwarnings('ignore',category=FutureWarning)\n",
    "warnings.filterwarnings('ignore',category=DeprecationWarning)"
   ]
  },
  {
   "cell_type": "code",
   "execution_count": 6,
   "id": "827ca27f-95ba-4037-9a98-e2e5c0653156",
   "metadata": {},
   "outputs": [],
   "source": [
    "train_features = pd.read_csv('train_features.csv')\n",
    "train_labels = pd.read_csv('train_labels.csv')"
   ]
  },
  {
   "cell_type": "code",
   "execution_count": 7,
   "id": "d710587e-c31c-4d53-912e-50569ec7ee92",
   "metadata": {},
   "outputs": [],
   "source": [
    "def print_result(results):\n",
    "    # Display the best parameters found during grid search\n",
    "    print('BEST PARAMETERS: {}\\n'.format(results.best_params_))\n",
    "\n",
    "    # Extract mean test scores, standard deviations, and corresponding parameter sets\n",
    "    mean_scores = results.cv_results_['mean_test_score']\n",
    "    std_scores = results.cv_results_['std_test_score']\n",
    "    parameters = results.cv_results_['params']\n",
    "\n",
    "    # Display mean test scores, along with their standard deviations, for each parameter set\n",
    "    for mean, std, params in zip(mean_scores, std_scores, parameters):\n",
    "        print('{} (+/- {}) for {}'.format(round(mean, 3), round(std * 2, 3), params))"
   ]
  },
  {
   "cell_type": "code",
   "execution_count": 9,
   "id": "a4d5adf6-2e0b-42a6-bd1f-6e77d55af489",
   "metadata": {},
   "outputs": [
    {
     "name": "stdout",
     "output_type": "stream",
     "text": [
      "BEST PARAMETERS: {'n_neighbors': 7, 'p': 2, 'weights': 'distance'}\n",
      "\n",
      "0.593 (+/- 0.084) for {'n_neighbors': 3, 'p': 1, 'weights': 'uniform'}\n",
      "0.611 (+/- 0.03) for {'n_neighbors': 3, 'p': 1, 'weights': 'distance'}\n",
      "0.54 (+/- 0.169) for {'n_neighbors': 3, 'p': 2, 'weights': 'uniform'}\n",
      "0.558 (+/- 0.119) for {'n_neighbors': 3, 'p': 2, 'weights': 'distance'}\n",
      "0.541 (+/- 0.104) for {'n_neighbors': 5, 'p': 1, 'weights': 'uniform'}\n",
      "0.559 (+/- 0.061) for {'n_neighbors': 5, 'p': 1, 'weights': 'distance'}\n",
      "0.559 (+/- 0.061) for {'n_neighbors': 5, 'p': 2, 'weights': 'uniform'}\n",
      "0.576 (+/- 0.041) for {'n_neighbors': 5, 'p': 2, 'weights': 'distance'}\n",
      "0.559 (+/- 0.131) for {'n_neighbors': 7, 'p': 1, 'weights': 'uniform'}\n",
      "0.594 (+/- 0.134) for {'n_neighbors': 7, 'p': 1, 'weights': 'distance'}\n",
      "0.595 (+/- 0.151) for {'n_neighbors': 7, 'p': 2, 'weights': 'uniform'}\n",
      "0.612 (+/- 0.194) for {'n_neighbors': 7, 'p': 2, 'weights': 'distance'}\n"
     ]
    }
   ],
   "source": [
    "# Create MultiOutputClassifier with an inner KNN classifier\n",
    "knn = KNeighborsClassifier()\n",
    "\n",
    "\n",
    "# Define parameters for grid search\n",
    "parameters = {\n",
    "    'n_neighbors': [3, 5, 7],\n",
    "    'weights': ['uniform', 'distance'],\n",
    "    'p': [1, 2]  # p=1 for Manhattan distance, p=2 for Euclidean distance\n",
    "}\n",
    "\n",
    "# Perform grid search\n",
    "cv = GridSearchCV(knn, parameters, cv=3)\n",
    "cv.fit(train_features, train_labels.values.ravel())\n",
    "\n",
    "# Display the results\n",
    "print_result(cv)"
   ]
  },
  {
   "cell_type": "code",
   "execution_count": 10,
   "id": "741023ec-343f-4c8f-836a-9839d4fffaaa",
   "metadata": {},
   "outputs": [
    {
     "data": {
      "text/plain": [
       "['KNN_model.pkl']"
      ]
     },
     "execution_count": 10,
     "metadata": {},
     "output_type": "execute_result"
    }
   ],
   "source": [
    "joblib.dump(cv.best_estimator_,'KNN_model.pkl')"
   ]
  },
  {
   "cell_type": "code",
   "execution_count": null,
   "id": "b859f636-ae03-41c4-b582-bb264cd67ae1",
   "metadata": {},
   "outputs": [],
   "source": []
  }
 ],
 "metadata": {
  "kernelspec": {
   "display_name": "Python 3 (ipykernel)",
   "language": "python",
   "name": "python3"
  },
  "language_info": {
   "codemirror_mode": {
    "name": "ipython",
    "version": 3
   },
   "file_extension": ".py",
   "mimetype": "text/x-python",
   "name": "python",
   "nbconvert_exporter": "python",
   "pygments_lexer": "ipython3",
   "version": "3.11.5"
  }
 },
 "nbformat": 4,
 "nbformat_minor": 5
}
