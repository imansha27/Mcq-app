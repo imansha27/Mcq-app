{
 "cells": [
  {
   "cell_type": "code",
   "execution_count": 1,
   "id": "ba6af7e5-6892-4542-8ede-2ac358a62bc1",
   "metadata": {},
   "outputs": [],
   "source": [
    "import joblib\n",
    "import pandas as pd\n",
    "from sklearn.metrics import accuracy_score,precision_score,recall_score\n",
    "from time import time\n",
    "from sklearn.ensemble import RandomForestClassifier\n",
    "from sklearn.linear_model import LogisticRegression\n",
    "import warnings\n",
    "# Ignore FutureWarning and DeprecationWarning\n",
    "warnings.filterwarnings('ignore', category=FutureWarning)\n",
    "warnings.filterwarnings('ignore', category=DeprecationWarning)\n",
    "\n",
    "\n",
    "vali_features = pd.read_csv('val_features.csv')\n",
    "vali_labels = pd.read_csv('val_labels.csv')\n",
    "\n",
    "test_features = pd.read_csv('test_features.csv')\n",
    "test_labels = pd.read_csv('test_labels.csv')"
   ]
  },
  {
   "cell_type": "code",
   "execution_count": 2,
   "id": "ce7a6e9f-47fd-4ade-ae59-cb98f6868526",
   "metadata": {},
   "outputs": [
    {
     "data": {
      "text/plain": [
       "{'LR': LogisticRegression(C=0.01, max_iter=1000),\n",
       " 'SVM': SVC(C=1),\n",
       " 'RF': RandomForestClassifier(n_estimators=5),\n",
       " 'KNN': KNeighborsClassifier()}"
      ]
     },
     "execution_count": 2,
     "metadata": {},
     "output_type": "execute_result"
    }
   ],
   "source": [
    "#Bring the build models\n",
    "models={}\n",
    "\n",
    "for mdl in ['LR','SVM','RF','KNN']:\n",
    "    models[mdl] = joblib.load('{}_model.pkl'.format(mdl))\n",
    "\n",
    "models"
   ]
  },
  {
   "cell_type": "code",
   "execution_count": 3,
   "id": "9934a85b-39c3-45db-9ae6-d7f4c8d44b5d",
   "metadata": {},
   "outputs": [
    {
     "name": "stdout",
     "output_type": "stream",
     "text": [
      "LR -- Accuracy: 0.8/Precision: 0.812/Recall: 0.929/Latency: 2.8ms\n",
      "SVM -- Accuracy: 0.55/Precision: 0.727/Recall: 0.571/Latency: 2.8ms\n",
      "RF -- Accuracy: 0.4/Precision: 0.571/Recall: 0.571/Latency: 0.0ms\n",
      "KNN -- Accuracy: 0.75/Precision: 0.737/Recall: 1.0/Latency: 4.0ms\n"
     ]
    }
   ],
   "source": [
    "def model_evaluation(name, model, features, labels):\n",
    "    start = time()\n",
    "    predict = model.predict(features)\n",
    "    end = time()\n",
    "    \n",
    "\n",
    "# Calculate accuracy separately for each label\n",
    "    accuracy = round(accuracy_score(labels, predict),3)\n",
    "    \n",
    "    # Calculate precision and recall separately for each label\n",
    "    precision = round(precision_score(labels, predict),3)\n",
    "    recall = round(recall_score(labels, predict),3)\n",
    "\n",
    "    print('{} -- Accuracy: {}/Precision: {}/Recall: {}/Latency: {}ms'.format(\n",
    "        name, accuracy, precision, recall, round((end - start) * 1000, 1)))\n",
    "\n",
    "# Iterate through models\n",
    "for name, mdl in models.items():\n",
    "    model_evaluation(name, mdl, vali_features, vali_labels)"
   ]
  },
  {
   "cell_type": "code",
   "execution_count": 4,
   "id": "b3c8a476-7410-4349-b302-5d3d7d1050a9",
   "metadata": {},
   "outputs": [
    {
     "name": "stdout",
     "output_type": "stream",
     "text": [
      "KNN -- Accuracy: 0.6/Precision: 0.606/Recall: 0.87/Latency: 10.2ms\n"
     ]
    }
   ],
   "source": [
    "#Evaluating best model on test set\n",
    "\n",
    "model_evaluation('KNN',models['KNN'],test_features,test_labels)"
   ]
  },
  {
   "cell_type": "code",
   "execution_count": 5,
   "id": "9518739d-a975-4f3a-bc04-b890b9aef6de",
   "metadata": {},
   "outputs": [],
   "source": [
    "\n",
    "# # Q1-Q15 data is stored in a DataFrame called 'new_data'\n",
    "# new_data = pd.DataFrame({\n",
    "#     'Student_ID': ['661e3da01741a36959ce1630'],\n",
    "#     'Question': ['Which arrangement of compounds given below, gives the correct increasing order of acid strength?'],\n",
    "#     'Round': [3],\n",
    "#     'Category': ['Organic'],\n",
    "#     'Difficulty_Level': ['Easy'],\n",
    "#     'Keywords': ['increasing,acid']\n",
    "# })"
   ]
  },
  {
   "cell_type": "code",
   "execution_count": null,
   "id": "d5d12a9f-9df8-4705-94a1-1400f5abdc95",
   "metadata": {},
   "outputs": [],
   "source": []
  }
 ],
 "metadata": {
  "kernelspec": {
   "display_name": "Python 3 (ipykernel)",
   "language": "python",
   "name": "python3"
  },
  "language_info": {
   "codemirror_mode": {
    "name": "ipython",
    "version": 3
   },
   "file_extension": ".py",
   "mimetype": "text/x-python",
   "name": "python",
   "nbconvert_exporter": "python",
   "pygments_lexer": "ipython3",
   "version": "3.11.5"
  }
 },
 "nbformat": 4,
 "nbformat_minor": 5
}
