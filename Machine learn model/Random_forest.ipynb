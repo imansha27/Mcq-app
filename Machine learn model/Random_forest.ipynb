{
 "cells": [
  {
   "cell_type": "code",
   "execution_count": 1,
   "id": "b80862ff-2526-4e6f-9c03-fb090c00f998",
   "metadata": {},
   "outputs": [],
   "source": [
    "import joblib\n",
    "import pandas as pd\n",
    "from sklearn.ensemble import RandomForestClassifier\n",
    "from sklearn.model_selection import GridSearchCV\n",
    "import warnings\n",
    "# Ignore FutureWarning and DeprecationWarning\n",
    "warnings.filterwarnings('ignore', category=FutureWarning)\n",
    "warnings.filterwarnings('ignore', category=DeprecationWarning)"
   ]
  },
  {
   "cell_type": "code",
   "execution_count": 2,
   "id": "6fb9b1d8-db74-4780-9aa8-bcca721992b6",
   "metadata": {},
   "outputs": [],
   "source": [
    "train_features = pd.read_csv('train_features.csv')\n",
    "train_labels = pd.read_csv('train_labels.csv')"
   ]
  },
  {
   "cell_type": "code",
   "execution_count": 3,
   "id": "0596236b-f05c-4caf-84b3-81b7459dc611",
   "metadata": {},
   "outputs": [
    {
     "name": "stdout",
     "output_type": "stream",
     "text": [
      "59\n",
      "59\n"
     ]
    }
   ],
   "source": [
    "print(train_features.shape[0])\n",
    "print(train_labels.shape[0])"
   ]
  },
  {
   "cell_type": "code",
   "execution_count": 4,
   "id": "2cf5a17b-d65f-40a9-bf67-129b4b718081",
   "metadata": {},
   "outputs": [],
   "source": [
    "def print_result(results):\n",
    "    # Display the best parameters found during grid search\n",
    "    print('BEST PARAMETERS: {}\\n'.format(results.best_params_))\n",
    "\n",
    "    # Extract mean test scores, standard deviations, and corresponding parameter sets\n",
    "    mean_scores = results.cv_results_['mean_test_score']\n",
    "    std_scores = results.cv_results_['std_test_score']\n",
    "    parameters = results.cv_results_['params']\n",
    "\n",
    "    # Display mean test scores, along with their standard deviations, for each parameter set\n",
    "    for mean, std, params in zip(mean_scores, std_scores, parameters):\n",
    "        print('{} (+/- {}) for {}'.format(round(mean, 3), round(std * 2, 3), params))"
   ]
  },
  {
   "cell_type": "code",
   "execution_count": 5,
   "id": "e8568895-090a-46f4-8933-30952ef9eae0",
   "metadata": {},
   "outputs": [
    {
     "name": "stdout",
     "output_type": "stream",
     "text": [
      "BEST PARAMETERS: {'max_depth': None, 'n_estimators': 5}\n",
      "\n",
      "0.509 (+/- 0.025) for {'max_depth': 2, 'n_estimators': 5}\n",
      "0.541 (+/- 0.104) for {'max_depth': 2, 'n_estimators': 50}\n",
      "0.542 (+/- 0.085) for {'max_depth': 2, 'n_estimators': 250}\n",
      "0.525 (+/- 0.041) for {'max_depth': 4, 'n_estimators': 5}\n",
      "0.525 (+/- 0.072) for {'max_depth': 4, 'n_estimators': 50}\n",
      "0.542 (+/- 0.085) for {'max_depth': 4, 'n_estimators': 250}\n",
      "0.391 (+/- 0.142) for {'max_depth': 8, 'n_estimators': 5}\n",
      "0.475 (+/- 0.041) for {'max_depth': 8, 'n_estimators': 50}\n",
      "0.509 (+/- 0.025) for {'max_depth': 8, 'n_estimators': 250}\n",
      "0.541 (+/- 0.104) for {'max_depth': 16, 'n_estimators': 5}\n",
      "0.509 (+/- 0.025) for {'max_depth': 16, 'n_estimators': 50}\n",
      "0.492 (+/- 0.063) for {'max_depth': 16, 'n_estimators': 250}\n",
      "0.508 (+/- 0.063) for {'max_depth': 32, 'n_estimators': 5}\n",
      "0.525 (+/- 0.122) for {'max_depth': 32, 'n_estimators': 50}\n",
      "0.509 (+/- 0.025) for {'max_depth': 32, 'n_estimators': 250}\n",
      "0.578 (+/- 0.156) for {'max_depth': None, 'n_estimators': 5}\n",
      "0.475 (+/- 0.109) for {'max_depth': None, 'n_estimators': 50}\n",
      "0.509 (+/- 0.025) for {'max_depth': None, 'n_estimators': 250}\n"
     ]
    }
   ],
   "source": [
    "# Create a Random Forest model\n",
    "rf = RandomForestClassifier()\n",
    "\n",
    "# Set up the parameter grid for grid search\n",
    "parameters = {\n",
    "    'n_estimators': [5, 50, 250],\n",
    "    'max_depth': [2, 4, 8, 16, 32, None]\n",
    "}\n",
    "\n",
    "# Perform grid search\n",
    "cv = GridSearchCV(rf, parameters, cv=3)\n",
    "cv.fit(train_features, train_labels.values.ravel())\n",
    "\n",
    "# Display the results\n",
    "print_result(cv)"
   ]
  },
  {
   "cell_type": "code",
   "execution_count": 6,
   "id": "93adb47f-06e5-48df-934e-5b68d63a9769",
   "metadata": {},
   "outputs": [
    {
     "data": {
      "text/plain": [
       "['RF_model.pkl']"
      ]
     },
     "execution_count": 6,
     "metadata": {},
     "output_type": "execute_result"
    }
   ],
   "source": [
    "joblib.dump(cv.best_estimator_,'RF_model.pkl')"
   ]
  },
  {
   "cell_type": "code",
   "execution_count": null,
   "id": "6e94a67c-747d-48f8-be06-b9afcc885858",
   "metadata": {},
   "outputs": [],
   "source": []
  }
 ],
 "metadata": {
  "kernelspec": {
   "display_name": "Python 3 (ipykernel)",
   "language": "python",
   "name": "python3"
  },
  "language_info": {
   "codemirror_mode": {
    "name": "ipython",
    "version": 3
   },
   "file_extension": ".py",
   "mimetype": "text/x-python",
   "name": "python",
   "nbconvert_exporter": "python",
   "pygments_lexer": "ipython3",
   "version": "3.11.5"
  }
 },
 "nbformat": 4,
 "nbformat_minor": 5
}
