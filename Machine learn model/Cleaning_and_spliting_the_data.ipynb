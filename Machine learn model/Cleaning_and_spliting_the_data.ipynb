{
 "cells": [
  {
   "cell_type": "code",
   "execution_count": 80,
   "id": "79d0f256-6601-4cad-ac51-e1f0c821d8fe",
   "metadata": {},
   "outputs": [
    {
     "data": {
      "text/html": [
       "<div>\n",
       "<style scoped>\n",
       "    .dataframe tbody tr th:only-of-type {\n",
       "        vertical-align: middle;\n",
       "    }\n",
       "\n",
       "    .dataframe tbody tr th {\n",
       "        vertical-align: top;\n",
       "    }\n",
       "\n",
       "    .dataframe thead th {\n",
       "        text-align: right;\n",
       "    }\n",
       "</style>\n",
       "<table border=\"1\" class=\"dataframe\">\n",
       "  <thead>\n",
       "    <tr style=\"text-align: right;\">\n",
       "      <th></th>\n",
       "      <th>Student_ID</th>\n",
       "      <th>Round</th>\n",
       "      <th>Category</th>\n",
       "      <th>Difficulty_Level</th>\n",
       "      <th>Keywords</th>\n",
       "      <th>Correctness</th>\n",
       "    </tr>\n",
       "  </thead>\n",
       "  <tbody>\n",
       "    <tr>\n",
       "      <th>0</th>\n",
       "      <td>660e224f2577d04ccfbecc71</td>\n",
       "      <td>1</td>\n",
       "      <td>Organic</td>\n",
       "      <td>Easy</td>\n",
       "      <td>alcohol</td>\n",
       "      <td>0</td>\n",
       "    </tr>\n",
       "    <tr>\n",
       "      <th>1</th>\n",
       "      <td>660e224f2577d04ccfbecc71</td>\n",
       "      <td>1</td>\n",
       "      <td>Organic</td>\n",
       "      <td>Medium</td>\n",
       "      <td>CH3CH2CHO ,HCHO</td>\n",
       "      <td>0</td>\n",
       "    </tr>\n",
       "    <tr>\n",
       "      <th>2</th>\n",
       "      <td>660e224f2577d04ccfbecc71</td>\n",
       "      <td>1</td>\n",
       "      <td>Organic</td>\n",
       "      <td>Hard</td>\n",
       "      <td>increasing ,acid</td>\n",
       "      <td>0</td>\n",
       "    </tr>\n",
       "    <tr>\n",
       "      <th>3</th>\n",
       "      <td>660e224f2577d04ccfbecc71</td>\n",
       "      <td>1</td>\n",
       "      <td>Inorganic</td>\n",
       "      <td>Easy</td>\n",
       "      <td>s-block ,Group I , Group II ,periodic table</td>\n",
       "      <td>1</td>\n",
       "    </tr>\n",
       "    <tr>\n",
       "      <th>4</th>\n",
       "      <td>660e224f2577d04ccfbecc71</td>\n",
       "      <td>1</td>\n",
       "      <td>Inorganic</td>\n",
       "      <td>Easy</td>\n",
       "      <td>Electron configuration, Chromium</td>\n",
       "      <td>1</td>\n",
       "    </tr>\n",
       "    <tr>\n",
       "      <th>5</th>\n",
       "      <td>660e224f2577d04ccfbecc71</td>\n",
       "      <td>1</td>\n",
       "      <td>Inorganic</td>\n",
       "      <td>Medium</td>\n",
       "      <td>Heating, Nitrites, Nitrate compounds, NO?</td>\n",
       "      <td>0</td>\n",
       "    </tr>\n",
       "    <tr>\n",
       "      <th>6</th>\n",
       "      <td>660e224f2577d04ccfbecc71</td>\n",
       "      <td>1</td>\n",
       "      <td>Physical</td>\n",
       "      <td>Medium</td>\n",
       "      <td>relative molecular mass, temperature, ideally...</td>\n",
       "      <td>1</td>\n",
       "    </tr>\n",
       "    <tr>\n",
       "      <th>7</th>\n",
       "      <td>660e224f2577d04ccfbecc71</td>\n",
       "      <td>1</td>\n",
       "      <td>Physical</td>\n",
       "      <td>Medium</td>\n",
       "      <td>relative atomic mass,gas,temperature</td>\n",
       "      <td>0</td>\n",
       "    </tr>\n",
       "    <tr>\n",
       "      <th>8</th>\n",
       "      <td>660e224f2577d04ccfbecc71</td>\n",
       "      <td>1</td>\n",
       "      <td>Physical</td>\n",
       "      <td>Hard</td>\n",
       "      <td>gas,temperature , pressure,volume</td>\n",
       "      <td>1</td>\n",
       "    </tr>\n",
       "    <tr>\n",
       "      <th>9</th>\n",
       "      <td>661e3d0b1741a36959ce1624</td>\n",
       "      <td>1</td>\n",
       "      <td>Organic</td>\n",
       "      <td>Medium</td>\n",
       "      <td>organic ,ammonia,P2O5,alkyl cyanide</td>\n",
       "      <td>1</td>\n",
       "    </tr>\n",
       "    <tr>\n",
       "      <th>10</th>\n",
       "      <td>661e3d0b1741a36959ce1624</td>\n",
       "      <td>1</td>\n",
       "      <td>Organic</td>\n",
       "      <td>Hard</td>\n",
       "      <td>Butanone,Dehydrogenation,Butan-2-ol,Oxidation,...</td>\n",
       "      <td>0</td>\n",
       "    </tr>\n",
       "    <tr>\n",
       "      <th>11</th>\n",
       "      <td>661e3d0b1741a36959ce1624</td>\n",
       "      <td>1</td>\n",
       "      <td>Organic</td>\n",
       "      <td>Easy</td>\n",
       "      <td>alcohol</td>\n",
       "      <td>1</td>\n",
       "    </tr>\n",
       "    <tr>\n",
       "      <th>12</th>\n",
       "      <td>661e3d0b1741a36959ce1624</td>\n",
       "      <td>1</td>\n",
       "      <td>Inorganic</td>\n",
       "      <td>Hard</td>\n",
       "      <td>Br?,CCl?,Iodide,Shaken,CCl? ,layer</td>\n",
       "      <td>1</td>\n",
       "    </tr>\n",
       "    <tr>\n",
       "      <th>13</th>\n",
       "      <td>661e3d0b1741a36959ce1624</td>\n",
       "      <td>1</td>\n",
       "      <td>Inorganic</td>\n",
       "      <td>Medium</td>\n",
       "      <td>Bleaching powder,Ca(OCl)?,Heating,Gas</td>\n",
       "      <td>0</td>\n",
       "    </tr>\n",
       "    <tr>\n",
       "      <th>14</th>\n",
       "      <td>661e3d0b1741a36959ce1624</td>\n",
       "      <td>1</td>\n",
       "      <td>Inorganic</td>\n",
       "      <td>Medium</td>\n",
       "      <td>ion ,geometry</td>\n",
       "      <td>1</td>\n",
       "    </tr>\n",
       "    <tr>\n",
       "      <th>15</th>\n",
       "      <td>661e3d0b1741a36959ce1624</td>\n",
       "      <td>1</td>\n",
       "      <td>Physical</td>\n",
       "      <td>Medium</td>\n",
       "      <td>initial rate</td>\n",
       "      <td>0</td>\n",
       "    </tr>\n",
       "    <tr>\n",
       "      <th>16</th>\n",
       "      <td>661e3d0b1741a36959ce1624</td>\n",
       "      <td>1</td>\n",
       "      <td>Physical</td>\n",
       "      <td>Medium</td>\n",
       "      <td>ideal gas,real gas,compressibility</td>\n",
       "      <td>1</td>\n",
       "    </tr>\n",
       "    <tr>\n",
       "      <th>17</th>\n",
       "      <td>661e3d0b1741a36959ce1624</td>\n",
       "      <td>1</td>\n",
       "      <td>Physical</td>\n",
       "      <td>Hard</td>\n",
       "      <td>weak monobasic acids,titration,concentrations,...</td>\n",
       "      <td>1</td>\n",
       "    </tr>\n",
       "  </tbody>\n",
       "</table>\n",
       "</div>"
      ],
      "text/plain": [
       "                  Student_ID  Round   Category Difficulty_Level  \\\n",
       "0   660e224f2577d04ccfbecc71      1    Organic             Easy   \n",
       "1   660e224f2577d04ccfbecc71      1    Organic           Medium   \n",
       "2   660e224f2577d04ccfbecc71      1    Organic             Hard   \n",
       "3   660e224f2577d04ccfbecc71      1  Inorganic             Easy   \n",
       "4   660e224f2577d04ccfbecc71      1  Inorganic             Easy   \n",
       "5   660e224f2577d04ccfbecc71      1  Inorganic           Medium   \n",
       "6   660e224f2577d04ccfbecc71      1   Physical           Medium   \n",
       "7   660e224f2577d04ccfbecc71      1   Physical           Medium   \n",
       "8   660e224f2577d04ccfbecc71      1   Physical             Hard   \n",
       "9   661e3d0b1741a36959ce1624      1    Organic           Medium   \n",
       "10  661e3d0b1741a36959ce1624      1    Organic             Hard   \n",
       "11  661e3d0b1741a36959ce1624      1    Organic             Easy   \n",
       "12  661e3d0b1741a36959ce1624      1  Inorganic             Hard   \n",
       "13  661e3d0b1741a36959ce1624      1  Inorganic           Medium   \n",
       "14  661e3d0b1741a36959ce1624      1  Inorganic           Medium   \n",
       "15  661e3d0b1741a36959ce1624      1   Physical           Medium   \n",
       "16  661e3d0b1741a36959ce1624      1   Physical           Medium   \n",
       "17  661e3d0b1741a36959ce1624      1   Physical             Hard   \n",
       "\n",
       "                                             Keywords  Correctness  \n",
       "0                                             alcohol            0  \n",
       "1                                     CH3CH2CHO ,HCHO            0  \n",
       "2                                    increasing ,acid            0  \n",
       "3         s-block ,Group I , Group II ,periodic table            1  \n",
       "4                    Electron configuration, Chromium            1  \n",
       "5          Heating, Nitrites, Nitrate compounds, NO?             0  \n",
       "6    relative molecular mass, temperature, ideally...            1  \n",
       "7                relative atomic mass,gas,temperature            0  \n",
       "8                   gas,temperature , pressure,volume            1  \n",
       "9                 organic ,ammonia,P2O5,alkyl cyanide            1  \n",
       "10  Butanone,Dehydrogenation,Butan-2-ol,Oxidation,...            0  \n",
       "11                                            alcohol            1  \n",
       "12                 Br?,CCl?,Iodide,Shaken,CCl? ,layer            1  \n",
       "13              Bleaching powder,Ca(OCl)?,Heating,Gas            0  \n",
       "14                                      ion ,geometry            1  \n",
       "15                                       initial rate            0  \n",
       "16                 ideal gas,real gas,compressibility            1  \n",
       "17  weak monobasic acids,titration,concentrations,...            1  "
      ]
     },
     "execution_count": 80,
     "metadata": {},
     "output_type": "execute_result"
    }
   ],
   "source": [
    "import numpy as np\n",
    "import pandas as pd \n",
    "import seaborn as sns \n",
    "from sklearn.preprocessing import LabelEncoder  \n",
    "\n",
    "\n",
    "\n",
    "# Read the dataset\n",
    "MCQ = pd.read_csv('results.csv', encoding='latin1')\n",
    "MCQ.head(18)"
   ]
  },
  {
   "cell_type": "code",
   "execution_count": 81,
   "id": "0d613a5d-0d4b-49e7-920b-273af4c64234",
   "metadata": {},
   "outputs": [],
   "source": [
    "# Initialize LabelEncoder\n",
    "label_encoder = LabelEncoder()\n",
    "\n",
    "# Label encode 'Category' column\n",
    "MCQ['Category_encoded'] = label_encoder.fit_transform(MCQ['Category'])\n",
    "MCQ.drop('Category', axis=1, inplace=True)\n",
    "\n",
    "# Label encode 'Difficulty_Level' column\n",
    "MCQ['Difficulty_Level_encoded'] = label_encoder.fit_transform(MCQ['Difficulty_Level'])\n",
    "MCQ.drop('Difficulty_Level', axis=1, inplace=True)\n",
    "\n",
    "# Label encode 'Student_ID' column\n",
    "MCQ['Student_ID_encoded'] = label_encoder.fit_transform(MCQ['Student_ID'])\n",
    "MCQ.drop('Student_ID', axis=1, inplace=True)\n"
   ]
  },
  {
   "cell_type": "code",
   "execution_count": 82,
   "id": "36ab263c-74c8-4f66-ae0c-c1c2551f4b86",
   "metadata": {},
   "outputs": [
    {
     "name": "stdout",
     "output_type": "stream",
     "text": [
      "    Round                                           Keywords  Correctness  \\\n",
      "0       1                                            alcohol            0   \n",
      "1       1                                    CH3CH2CHO ,HCHO            0   \n",
      "2       1                                   increasing ,acid            0   \n",
      "3       1        s-block ,Group I , Group II ,periodic table            1   \n",
      "4       1                   Electron configuration, Chromium            1   \n",
      "5       1         Heating, Nitrites, Nitrate compounds, NO?             0   \n",
      "6       1   relative molecular mass, temperature, ideally...            1   \n",
      "7       1               relative atomic mass,gas,temperature            0   \n",
      "8       1                  gas,temperature , pressure,volume            1   \n",
      "9       1                organic ,ammonia,P2O5,alkyl cyanide            1   \n",
      "10      1  Butanone,Dehydrogenation,Butan-2-ol,Oxidation,...            0   \n",
      "11      1                                            alcohol            1   \n",
      "12      1                 Br?,CCl?,Iodide,Shaken,CCl? ,layer            1   \n",
      "13      1              Bleaching powder,Ca(OCl)?,Heating,Gas            0   \n",
      "14      1                                      ion ,geometry            1   \n",
      "15      1                                       initial rate            0   \n",
      "16      1                 ideal gas,real gas,compressibility            1   \n",
      "17      1  weak monobasic acids,titration,concentrations,...            1   \n",
      "\n",
      "    Category_encoded  Difficulty_Level_encoded  Student_ID_encoded  \n",
      "0                  1                         0                   0  \n",
      "1                  1                         2                   0  \n",
      "2                  1                         1                   0  \n",
      "3                  0                         0                   0  \n",
      "4                  0                         0                   0  \n",
      "5                  0                         2                   0  \n",
      "6                  2                         2                   0  \n",
      "7                  2                         2                   0  \n",
      "8                  2                         1                   0  \n",
      "9                  1                         2                   1  \n",
      "10                 1                         1                   1  \n",
      "11                 1                         0                   1  \n",
      "12                 0                         1                   1  \n",
      "13                 0                         2                   1  \n",
      "14                 0                         2                   1  \n",
      "15                 2                         2                   1  \n",
      "16                 2                         2                   1  \n",
      "17                 2                         1                   1  \n"
     ]
    }
   ],
   "source": [
    "print(MCQ.head(18))"
   ]
  },
  {
   "cell_type": "code",
   "execution_count": 83,
   "id": "0526a18f-192e-4957-a487-50ed0edcfbf2",
   "metadata": {},
   "outputs": [],
   "source": [
    "# Split the 'Keywords' column into individual keywords\n",
    "keywords_split = MCQ['Keywords'].str.split(',')\n",
    "\n",
    "# Get unique keywords\n",
    "unique_keywords = sorted(set(keyword for sublist in keywords_split for keyword in sublist))\n",
    "\n",
    "# Create a DataFrame with one-hot encoded keywords\n",
    "keyword_MCQ = pd.DataFrame(0, index=MCQ.index, columns=unique_keywords)\n",
    "\n",
    "# Fill the one-hot encoded DataFrame\n",
    "for i, keywords in enumerate(keywords_split):\n",
    "    keyword_MCQ.loc[i, keywords] = 1\n",
    "\n",
    "# Concatenate the one-hot encoded DataFrame with the original DataFrame\n",
    "MCQ = pd.concat([MCQ, keyword_MCQ], axis=1)\n",
    "\n",
    "# Drop the original 'Keywords' column\n",
    "MCQ.drop(columns=['Keywords'], inplace=True)\n",
    "\n"
   ]
  },
  {
   "cell_type": "code",
   "execution_count": 84,
   "id": "cfeed35f-c5a2-46e1-90ce-038bc39ca900",
   "metadata": {},
   "outputs": [
    {
     "name": "stdout",
     "output_type": "stream",
     "text": [
      "Index(['Round', 'Correctness', 'Category_encoded', 'Difficulty_Level_encoded',\n",
      "       'Student_ID_encoded', ' ', '  N2', ' (CH3)2CHCHO', ' (CH3)2CHOH',\n",
      "       ' (CH3)3CCOOCH ',\n",
      "       ...\n",
      "       'sodium amalgam', 'solubility', 'solution', 'system', 'temperature',\n",
      "       'temperature ', 'titration', 'volume', 'weak base',\n",
      "       'weak monobasic acids'],\n",
      "      dtype='object', length=310)\n"
     ]
    }
   ],
   "source": [
    "print(MCQ.columns)"
   ]
  },
  {
   "cell_type": "code",
   "execution_count": 85,
   "id": "2f6fc907-3156-49bb-8b9d-bc40609b146f",
   "metadata": {},
   "outputs": [],
   "source": [
    "from sklearn.model_selection import train_test_split"
   ]
  },
  {
   "cell_type": "code",
   "execution_count": 86,
   "id": "1e1fd349-b0ca-4f06-886d-7461280baf0c",
   "metadata": {},
   "outputs": [],
   "source": [
    "# Separate features (X) and labels (y)\n",
    "features = MCQ.drop('Correctness', axis=1)\n",
    "labels = MCQ['Correctness']"
   ]
  },
  {
   "cell_type": "code",
   "execution_count": 87,
   "id": "65e30ba7-4c8f-4dcb-9676-606496fcb898",
   "metadata": {},
   "outputs": [],
   "source": [
    "# Splitting the data into 60% train and 40% test\n",
    "x_train, x_test, y_train, y_test = train_test_split(features, labels, test_size=0.4, random_state=42)\n",
    "\n",
    "# Splitting 40% test into 50% validation and 50% final test\n",
    "x_val, x_final_test, y_val, y_final_test = train_test_split(x_test, y_test, test_size=0.5, random_state=42)"
   ]
  },
  {
   "cell_type": "code",
   "execution_count": 88,
   "id": "1d27bc6a-6df2-44c5-8c3d-014bec98b992",
   "metadata": {},
   "outputs": [
    {
     "name": "stdout",
     "output_type": "stream",
     "text": [
      "0.6\n",
      "0.2\n",
      "0.4\n"
     ]
    }
   ],
   "source": [
    "#checking if the data is split correctly\n",
    "for dataset in [y_train,y_val,y_test]:\n",
    "    print(round(len(dataset)/len(labels),2))"
   ]
  },
  {
   "cell_type": "code",
   "execution_count": 89,
   "id": "186dcb27-5047-4822-82ad-a5748a2560c9",
   "metadata": {},
   "outputs": [],
   "source": [
    "#writing all the data into csv files seperately\n",
    "\n",
    "x_train.to_csv('train_features.csv',index=False)\n",
    "x_val.to_csv('val_features.csv',index=False)\n",
    "x_test.to_csv('test_features.csv',index=False)\n",
    "\n",
    "\n",
    "\n",
    "y_train.to_csv('train_labels.csv',index=False)\n",
    "y_val.to_csv('val_labels.csv',index=False)\n",
    "y_test.to_csv('test_labels.csv',index=False)"
   ]
  },
  {
   "cell_type": "code",
   "execution_count": 90,
   "id": "8692d838-f46d-4eab-9686-eb4922929e9d",
   "metadata": {},
   "outputs": [
    {
     "name": "stdout",
     "output_type": "stream",
     "text": [
      "Rows with non-numeric data:\n",
      "Empty DataFrame\n",
      "Columns: [Round, Correctness, Category_encoded, Difficulty_Level_encoded, Student_ID_encoded,  ,   N2,  (CH3)2CHCHO,  (CH3)2CHOH,  (CH3)3CCOOCH ,  Al,  Arrhenius equation,  Ba(NO3)2,  C,  C6H5CH2CH2CH3,  C6H5CHO,  C6H5COCH2CH3,  CH3CH2CHO,  CH3CH2CHO ,  CO2,  Chromium,  Color,  Compounds,  Electronic transitions,  Elements,  F,  Fe,  FeBr3,  Gibbs free energy,  Group I,  Group II,  Group II ,  H,  H2O,  HBr,  HCHO,  HCl,  He,  Heating,  Highest,  ICH2COOH,  K ,  KI,  Li,  LiAlH4,  Mg,  Mg(NO3)2,  N,  NH3,  NO2,  NO? ,  Na,  NaBH4,  NaHCO3,  NaNH2,  Nitrate compounds,  Nitrites,  O,  Oxidation state,  STP,  Si,  Tollen's reagent,  acetyl chloride,  acidic strength,  activation energy,  alcohol,  alcohols,  aldehydes,  appropriateness,  appropriateness\n",
      ",  aqueous KHCO3,  aqueous KOH,  aqueous NaOH,  aqueous sodium hydroxide,  bromine,  butane-1,  calcium carbide,  calculation,  carbon,  carbon dioxide,  carboxylic acids,  chemical tests,  chlorides,  colluded solution,  colourless gas,  combustion,  comparison,  compound,  concentration decrease,  constant temperature,  decolorizes Br2 water,  decolourises KMnO4,  decomposition,  deduction,  dehydrogenation,  density,  diastereomerism,  dilute HCl,  distinction,  distinguish, ...]\n",
      "Index: []\n",
      "\n",
      "[0 rows x 310 columns]\n"
     ]
    }
   ],
   "source": [
    "# Convert all columns to numeric, coercing errors\n",
    "numeric_MCQ = MCQ.apply(pd.to_numeric, errors='coerce')\n",
    "\n",
    "# Find rows with NaN values (indicating non-numeric data)\n",
    "non_numeric_rows = numeric_MCQ[numeric_MCQ.isnull().any(axis=1)]\n",
    "\n",
    "print(\"Rows with non-numeric data:\")\n",
    "print(non_numeric_rows)"
   ]
  },
  {
   "cell_type": "code",
   "execution_count": 91,
   "id": "ef90278e-9851-4051-aa5f-b11ea4fdcd95",
   "metadata": {},
   "outputs": [
    {
     "data": {
      "text/plain": [
       "Round                       0\n",
       "Correctness                 0\n",
       "Category_encoded            0\n",
       "Difficulty_Level_encoded    0\n",
       "Student_ID_encoded          0\n",
       "                           ..\n",
       "temperature                 0\n",
       "titration                   0\n",
       "volume                      0\n",
       "weak base                   0\n",
       "weak monobasic acids        0\n",
       "Length: 310, dtype: int64"
      ]
     },
     "execution_count": 91,
     "metadata": {},
     "output_type": "execute_result"
    }
   ],
   "source": [
    "MCQ.isnull().sum()"
   ]
  },
  {
   "cell_type": "code",
   "execution_count": 94,
   "id": "bfbb79ea-a74f-473f-8b70-3f4a72a6c22d",
   "metadata": {},
   "outputs": [
    {
     "data": {
      "text/plain": [
       "['encoded_keywords.pkl']"
      ]
     },
     "execution_count": 94,
     "metadata": {},
     "output_type": "execute_result"
    }
   ],
   "source": [
    "import joblib\n",
    "\n",
    "# Save the keyword_MCQ object using joblib\n",
    "joblib.dump(keyword_MCQ, 'encoded_keywords.pkl')"
   ]
  },
  {
   "cell_type": "code",
   "execution_count": 95,
   "id": "81064cd1-b9ef-400c-827e-bbd5628fbc3c",
   "metadata": {},
   "outputs": [
    {
     "data": {
      "text/plain": [
       "['training_feature_names.pkl']"
      ]
     },
     "execution_count": 95,
     "metadata": {},
     "output_type": "execute_result"
    }
   ],
   "source": []
  },
  {
   "cell_type": "code",
   "execution_count": null,
   "id": "cc4efeca-3dfc-456b-a638-2f25cb12c361",
   "metadata": {},
   "outputs": [],
   "source": []
  },
  {
   "cell_type": "code",
   "execution_count": null,
   "id": "05fbb28d-624e-4c5b-8eb0-76363520e785",
   "metadata": {},
   "outputs": [],
   "source": []
  }
 ],
 "metadata": {
  "kernelspec": {
   "display_name": "Python 3 (ipykernel)",
   "language": "python",
   "name": "python3"
  },
  "language_info": {
   "codemirror_mode": {
    "name": "ipython",
    "version": 3
   },
   "file_extension": ".py",
   "mimetype": "text/x-python",
   "name": "python",
   "nbconvert_exporter": "python",
   "pygments_lexer": "ipython3",
   "version": "3.11.5"
  }
 },
 "nbformat": 4,
 "nbformat_minor": 5
}
