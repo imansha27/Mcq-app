{
 "cells": [
  {
   "cell_type": "code",
   "execution_count": 11,
   "id": "108d0bff-8434-4029-84b8-c50310fe3670",
   "metadata": {},
   "outputs": [],
   "source": [
    "import joblib\n",
    "import pandas as pd\n",
    "from sklearn.ensemble import RandomForestClassifier\n",
    "from sklearn.model_selection import GridSearchCV\n",
    "from sklearn.multioutput import MultiOutputClassifier\n",
    "import warnings\n",
    "# Ignore FutureWarning and DeprecationWarning\n",
    "warnings.filterwarnings('ignore', category=FutureWarning)\n",
    "warnings.filterwarnings('ignore', category=DeprecationWarning)"
   ]
  },
  {
   "cell_type": "code",
   "execution_count": 12,
   "id": "09fc9438-4234-4043-a2b0-8d941caf5391",
   "metadata": {},
   "outputs": [],
   "source": [
    "target_variables = ['O_Cor', 'I_Cor', 'P_Co', 'Top_Cat', 'Low_Cat']\n",
    "\n",
    "train_features = pd.read_csv('train_features.csv')\n",
    "train_labels = pd.read_csv('train_labels.csv')[target_variables]"
   ]
  },
  {
   "cell_type": "code",
   "execution_count": 13,
   "id": "6bf52a1d-5ae8-456d-9c45-940b5261ec0e",
   "metadata": {},
   "outputs": [],
   "source": [
    "def print_result(results):\n",
    "    # Display the best parameters found during grid search\n",
    "    print('BEST PARAMETERS: {}\\n'.format(results.best_params_))\n",
    "\n",
    "    # Extract mean test scores, standard deviations, and corresponding parameter sets\n",
    "    mean_scores = results.cv_results_['mean_test_score']\n",
    "    std_scores = results.cv_results_['std_test_score']\n",
    "    parameters = results.cv_results_['params']\n",
    "\n",
    "    # Display mean test scores, along with their standard deviations, for each parameter set\n",
    "    for mean, std, params in zip(mean_scores, std_scores, parameters):\n",
    "        print('{} (+/- {}) for {}'.format(round(mean, 3), round(std * 2, 3), params))"
   ]
  },
  {
   "cell_type": "code",
   "execution_count": 15,
   "id": "f426fd86-0db5-4abb-b47c-3d7f824a7056",
   "metadata": {},
   "outputs": [
    {
     "name": "stdout",
     "output_type": "stream",
     "text": [
      "BEST PARAMETERS: {'estimator__max_depth': 4, 'estimator__n_estimators': 50}\n",
      "\n",
      "0.05 (+/- 0.082) for {'estimator__max_depth': 2, 'estimator__n_estimators': 5}\n",
      "0.117 (+/- 0.125) for {'estimator__max_depth': 2, 'estimator__n_estimators': 50}\n",
      "0.117 (+/- 0.125) for {'estimator__max_depth': 2, 'estimator__n_estimators': 250}\n",
      "0.217 (+/- 0.17) for {'estimator__max_depth': 4, 'estimator__n_estimators': 5}\n",
      "0.233 (+/- 0.205) for {'estimator__max_depth': 4, 'estimator__n_estimators': 50}\n",
      "0.217 (+/- 0.205) for {'estimator__max_depth': 4, 'estimator__n_estimators': 250}\n",
      "0.183 (+/- 0.205) for {'estimator__max_depth': 8, 'estimator__n_estimators': 5}\n",
      "0.2 (+/- 0.163) for {'estimator__max_depth': 8, 'estimator__n_estimators': 50}\n",
      "0.233 (+/- 0.205) for {'estimator__max_depth': 8, 'estimator__n_estimators': 250}\n",
      "0.167 (+/- 0.262) for {'estimator__max_depth': 16, 'estimator__n_estimators': 5}\n",
      "0.233 (+/- 0.205) for {'estimator__max_depth': 16, 'estimator__n_estimators': 50}\n",
      "0.217 (+/- 0.205) for {'estimator__max_depth': 16, 'estimator__n_estimators': 250}\n",
      "0.167 (+/- 0.17) for {'estimator__max_depth': 32, 'estimator__n_estimators': 5}\n",
      "0.2 (+/- 0.216) for {'estimator__max_depth': 32, 'estimator__n_estimators': 50}\n",
      "0.217 (+/- 0.205) for {'estimator__max_depth': 32, 'estimator__n_estimators': 250}\n",
      "0.2 (+/- 0.163) for {'estimator__max_depth': None, 'estimator__n_estimators': 5}\n",
      "0.233 (+/- 0.205) for {'estimator__max_depth': None, 'estimator__n_estimators': 50}\n",
      "0.217 (+/- 0.205) for {'estimator__max_depth': None, 'estimator__n_estimators': 250}\n"
     ]
    }
   ],
   "source": [
    "# Create a Random Forest model\n",
    "rf = RandomForestClassifier()\n",
    "\n",
    "# Use the MultiOutputClassifier for multi-output classification\n",
    "multi_output_classifier = MultiOutputClassifier(rf)\n",
    "\n",
    "# Set up the parameter grid for grid search\n",
    "parameters = {\n",
    "    'estimator__n_estimators': [5, 50, 250],\n",
    "    'estimator__max_depth': [2, 4, 8, 16, 32, None]\n",
    "}\n",
    "\n",
    "# Perform grid search\n",
    "cv = GridSearchCV(multi_output_classifier, parameters, cv=3)\n",
    "cv.fit(train_features, train_labels)\n",
    "\n",
    "# Display the results\n",
    "print_result(cv)"
   ]
  },
  {
   "cell_type": "code",
   "execution_count": 16,
   "id": "37a6baf0-4d84-4ce8-9a75-94fb52f3731e",
   "metadata": {},
   "outputs": [
    {
     "data": {
      "text/plain": [
       "['Multi_output_RF_model.pkl']"
      ]
     },
     "execution_count": 16,
     "metadata": {},
     "output_type": "execute_result"
    }
   ],
   "source": [
    "joblib.dump(cv.best_estimator_,'Multi_output_RF_model.pkl')"
   ]
  },
  {
   "cell_type": "code",
   "execution_count": null,
   "id": "3e76cdda-e66a-45cf-87af-34d96107d410",
   "metadata": {},
   "outputs": [],
   "source": []
  }
 ],
 "metadata": {
  "kernelspec": {
   "display_name": "Python 3 (ipykernel)",
   "language": "python",
   "name": "python3"
  },
  "language_info": {
   "codemirror_mode": {
    "name": "ipython",
    "version": 3
   },
   "file_extension": ".py",
   "mimetype": "text/x-python",
   "name": "python",
   "nbconvert_exporter": "python",
   "pygments_lexer": "ipython3",
   "version": "3.11.5"
  }
 },
 "nbformat": 4,
 "nbformat_minor": 5
}
