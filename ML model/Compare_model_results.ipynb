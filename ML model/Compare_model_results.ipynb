{
 "cells": [
  {
   "cell_type": "code",
   "execution_count": 3,
   "id": "9a7f68cd-bd98-47cd-92cb-a355940021ee",
   "metadata": {},
   "outputs": [],
   "source": [
    "import joblib\n",
    "import pandas as pd\n",
    "from sklearn.metrics import accuracy_score,precision_score,recall_score\n",
    "from time import time\n",
    "from sklearn.multioutput import MultiOutputClassifier\n",
    "from sklearn.ensemble import RandomForestClassifier\n",
    "from sklearn.linear_model import LogisticRegression\n",
    "import warnings\n",
    "# Ignore FutureWarning and DeprecationWarning\n",
    "warnings.filterwarnings('ignore', category=FutureWarning)\n",
    "warnings.filterwarnings('ignore', category=DeprecationWarning)\n",
    "\n",
    "\n",
    "vali_features = pd.read_csv('val_features.csv')\n",
    "vali_labels = pd.read_csv('val_labels.csv')\n",
    "\n",
    "test_features = pd.read_csv('test_features.csv')\n",
    "test_labels = pd.read_csv('test_labels.csv')"
   ]
  },
  {
   "cell_type": "code",
   "execution_count": 3,
   "id": "4e36f725-db29-494f-86c5-d5af16676220",
   "metadata": {},
   "outputs": [
    {
     "data": {
      "text/plain": [
       "{'Multi_output_LR': MultiOutputClassifier(estimator=LogisticRegression(C=10, max_iter=1000)),\n",
       " 'Multi_output_SVM': MultiOutputClassifier(estimator=SVC(C=10, kernel='linear')),\n",
       " 'Multi_output_RF': MultiOutputClassifier(estimator=RandomForestClassifier(max_depth=4,\n",
       "                                                        n_estimators=50)),\n",
       " 'Multi_output_KNN': MultiOutputClassifier(estimator=KNeighborsClassifier(n_neighbors=3, p=1,\n",
       "                                                      weights='distance'))}"
      ]
     },
     "execution_count": 3,
     "metadata": {},
     "output_type": "execute_result"
    }
   ],
   "source": [
    "#Bring the build models\n",
    "models={}\n",
    "\n",
    "for mdl in ['Multi_output_LR','Multi_output_SVM','Multi_output_RF','Multi_output_KNN']:\n",
    "    models[mdl] = joblib.load('{}_model.pkl'.format(mdl))\n",
    "\n",
    "models"
   ]
  },
  {
   "cell_type": "code",
   "execution_count": 4,
   "id": "26701af5-4951-4da8-ae66-b1aaec5d9278",
   "metadata": {},
   "outputs": [
    {
     "name": "stdout",
     "output_type": "stream",
     "text": [
      "Multi_output_LR -- Accuracy: [0.4, 0.45, 0.4, 0.65, 0.7]/Precision: [0.562, 0.55, 0.458, 0.695, 0.862]/Recall: [0.4, 0.45, 0.4, 0.65, 0.7]/Latency: 9.3ms\n",
      "Multi_output_SVM -- Accuracy: [0.6, 0.55, 0.65, 0.6, 0.65]/Precision: [0.745, 0.636, 0.662, 0.66, 0.796]/Recall: [0.6, 0.55, 0.65, 0.6, 0.65]/Latency: 8.0ms\n",
      "Multi_output_RF -- Accuracy: [0.5, 0.45, 0.65, 0.55, 0.45]/Precision: [0.753, 0.492, 0.752, 0.664, 0.542]/Recall: [0.5, 0.45, 0.65, 0.55, 0.45]/Latency: 39.6ms\n",
      "Multi_output_KNN -- Accuracy: [0.6, 0.6, 0.55, 0.55, 0.6]/Precision: [0.808, 0.729, 0.598, 0.6, 0.738]/Recall: [0.6, 0.6, 0.55, 0.55, 0.6]/Latency: 246.5ms\n"
     ]
    }
   ],
   "source": [
    "\n",
    "def model_evaluation(name, model, features, labels):\n",
    "    start = time()\n",
    "    predict = model.predict(features)\n",
    "    end = time()\n",
    "    \n",
    "\n",
    "# Calculate accuracy separately for each label\n",
    "    accuracy = [round(accuracy_score(labels[label], predict[:, idx]), 3) for idx, label in enumerate(labels.columns)]\n",
    "    \n",
    "    # Calculate precision and recall separately for each label\n",
    "    precision = [round(precision_score(labels[label], predict[:, idx], average='weighted',zero_division=1), 3) for idx, label in enumerate(labels.columns)]\n",
    "    recall = [round(recall_score(labels[label], predict[:, idx], average='weighted',zero_division=1), 3) for idx, label in enumerate(labels.columns)]\n",
    "\n",
    "    print('{} -- Accuracy: {}/Precision: {}/Recall: {}/Latency: {}ms'.format(\n",
    "        name, accuracy, precision, recall, round((end - start) * 1000, 1)))\n",
    "\n",
    "# Iterate through models\n",
    "for name, mdl in models.items():\n",
    "    model_evaluation(name, mdl, vali_features, vali_labels)\n",
    "    "
   ]
  },
  {
   "cell_type": "code",
   "execution_count": 5,
   "id": "68ef117c-d2a7-4cf7-b36a-27c04b41a035",
   "metadata": {},
   "outputs": [
    {
     "name": "stdout",
     "output_type": "stream",
     "text": [
      "support vector machines -- Accuracy: [0.65, 0.6, 0.7, 0.55, 0.45]/Precision: [0.7, 0.839, 0.752, 0.733, 0.614]/Recall: [0.65, 0.6, 0.7, 0.55, 0.45]/Latency: 9.3ms\n"
     ]
    }
   ],
   "source": [
    "#Evaluating best model on test set\n",
    "\n",
    "model_evaluation('support vector machines',models['Multi_output_SVM'],test_features,test_labels)"
   ]
  },
  {
   "cell_type": "code",
   "execution_count": 4,
   "id": "9bb01004-8643-46d1-8b3c-251ac52f33a0",
   "metadata": {},
   "outputs": [],
   "source": [
    "# Q1-Q15 data is stored in a DataFrame called 'new_data'\n",
    "new_data = pd.DataFrame({\n",
    "    'Q1': [1],  \n",
    "    'Q2': [1],\n",
    "    'Q3': [1],  \n",
    "    'Q4': [1],\n",
    "    'Q5': [1],  \n",
    "    'Q6': [1], \n",
    "    'Q7': [1],  \n",
    "    'Q8': [1],\n",
    "    'Q9': [1],  \n",
    "    'Q10': [1],\n",
    "    'Q11': [1],  \n",
    "    'Q12': [1], \n",
    "    'Q13': [1],\n",
    "    'Q14': [1],  \n",
    "    'Q15': [1], \n",
    "    'T_Cor':[15],\n",
    "})"
   ]
  },
  {
   "cell_type": "code",
   "execution_count": 5,
   "id": "7312a3d8-c99e-4c0d-9e2c-065876d0a830",
   "metadata": {},
   "outputs": [
    {
     "data": {
      "text/html": [
       "<div>\n",
       "<style scoped>\n",
       "    .dataframe tbody tr th:only-of-type {\n",
       "        vertical-align: middle;\n",
       "    }\n",
       "\n",
       "    .dataframe tbody tr th {\n",
       "        vertical-align: top;\n",
       "    }\n",
       "\n",
       "    .dataframe thead th {\n",
       "        text-align: right;\n",
       "    }\n",
       "</style>\n",
       "<table border=\"1\" class=\"dataframe\">\n",
       "  <thead>\n",
       "    <tr style=\"text-align: right;\">\n",
       "      <th></th>\n",
       "      <th>Q1</th>\n",
       "      <th>Q2</th>\n",
       "      <th>Q3</th>\n",
       "      <th>Q4</th>\n",
       "      <th>Q5</th>\n",
       "      <th>Q6</th>\n",
       "      <th>Q7</th>\n",
       "      <th>Q8</th>\n",
       "      <th>Q9</th>\n",
       "      <th>Q10</th>\n",
       "      <th>Q11</th>\n",
       "      <th>Q12</th>\n",
       "      <th>Q13</th>\n",
       "      <th>Q14</th>\n",
       "      <th>Q15</th>\n",
       "      <th>T_Cor</th>\n",
       "    </tr>\n",
       "  </thead>\n",
       "  <tbody>\n",
       "    <tr>\n",
       "      <th>0</th>\n",
       "      <td>1</td>\n",
       "      <td>1</td>\n",
       "      <td>1</td>\n",
       "      <td>1</td>\n",
       "      <td>1</td>\n",
       "      <td>1</td>\n",
       "      <td>1</td>\n",
       "      <td>1</td>\n",
       "      <td>1</td>\n",
       "      <td>1</td>\n",
       "      <td>1</td>\n",
       "      <td>1</td>\n",
       "      <td>1</td>\n",
       "      <td>1</td>\n",
       "      <td>1</td>\n",
       "      <td>15</td>\n",
       "    </tr>\n",
       "  </tbody>\n",
       "</table>\n",
       "</div>"
      ],
      "text/plain": [
       "   Q1  Q2  Q3  Q4  Q5  Q6  Q7  Q8  Q9  Q10  Q11  Q12  Q13  Q14  Q15  T_Cor\n",
       "0   1   1   1   1   1   1   1   1   1    1    1    1    1    1    1     15"
      ]
     },
     "execution_count": 5,
     "metadata": {},
     "output_type": "execute_result"
    }
   ],
   "source": [
    "new_data"
   ]
  },
  {
   "cell_type": "code",
   "execution_count": 9,
   "id": "1f6d4f30-c624-4e9d-91af-458a89d00ea1",
   "metadata": {},
   "outputs": [],
   "source": [
    "selected_model = models['Multi_output_SVM'] \n",
    "predicted_labels = selected_model.predict(new_data)"
   ]
  },
  {
   "cell_type": "code",
   "execution_count": 10,
   "id": "43c9f60e-f6f5-49c2-ac92-a7746046eb9b",
   "metadata": {},
   "outputs": [
    {
     "name": "stdout",
     "output_type": "stream",
     "text": [
      "Predicted Labels:\n",
      "[[5. 5. 5. 7. 8.]]\n"
     ]
    }
   ],
   "source": [
    "# Display the predicted labels\n",
    "print(\"Predicted Labels:\")\n",
    "print(predicted_labels)"
   ]
  },
  {
   "cell_type": "code",
   "execution_count": null,
   "id": "7279080b-bed1-4678-b414-bba70b2dea22",
   "metadata": {},
   "outputs": [],
   "source": []
  }
 ],
 "metadata": {
  "kernelspec": {
   "display_name": "Python 3 (ipykernel)",
   "language": "python",
   "name": "python3"
  },
  "language_info": {
   "codemirror_mode": {
    "name": "ipython",
    "version": 3
   },
   "file_extension": ".py",
   "mimetype": "text/x-python",
   "name": "python",
   "nbconvert_exporter": "python",
   "pygments_lexer": "ipython3",
   "version": "3.11.5"
  }
 },
 "nbformat": 4,
 "nbformat_minor": 5
}
