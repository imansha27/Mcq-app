{
 "cells": [
  {
   "cell_type": "code",
   "execution_count": null,
   "id": "108d0bff-8434-4029-84b8-c50310fe3670",
   "metadata": {},
   "outputs": [],
   "source": []
  }
 ],
 "metadata": {
  "kernelspec": {
   "display_name": "",
   "name": ""
  },
  "language_info": {
   "name": ""
  }
 },
 "nbformat": 4,
 "nbformat_minor": 5
}
