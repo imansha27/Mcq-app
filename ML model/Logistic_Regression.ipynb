{
 "cells": [
  {
   "cell_type": "code",
   "execution_count": 41,
   "id": "e0478b9f-344d-4adc-b73b-ea8bca347fc8",
   "metadata": {},
   "outputs": [],
   "source": [
    "import joblib\n",
    "import pandas as pd\n",
    "from sklearn.linear_model import LogisticRegression\n",
    "from sklearn.model_selection import GridSearchCV\n",
    "import warnings \n",
    "warnings.filterwarnings('ignore',category=FutureWarning)\n",
    "warnings.filterwarnings('ignore',category=DeprecationWarning)\n",
    "from sklearn.multioutput import MultiOutputClassifier"
   ]
  },
  {
   "cell_type": "code",
   "execution_count": 42,
   "id": "9a89b17e-cfc3-467b-9485-b7344c2f4f17",
   "metadata": {},
   "outputs": [],
   "source": [
    "target_variables = ['O_Cor', 'I_Cor', 'P_Co', 'Top_Cat', 'Low_Cat']\n",
    "\n",
    "train_features = pd.read_csv('train_features.csv')\n",
    "train_labels = pd.read_csv('train_labels.csv')[target_variables]"
   ]
  },
  {
   "cell_type": "code",
   "execution_count": 43,
   "id": "d5a1d837-3b9e-477d-a0f5-ae94871565f5",
   "metadata": {},
   "outputs": [],
   "source": [
    "def print_result(results):\n",
    "    # Display the best parameters found during grid search\n",
    "    print('BEST PARAMETERS: {}\\n'.format(results.best_params_))\n",
    "\n",
    "    # Extract mean test scores, standard deviations, and corresponding parameter sets\n",
    "    mean_scores = results.cv_results_['mean_test_score']\n",
    "    std_scores = results.cv_results_['std_test_score']\n",
    "    parameters = results.cv_results_['params']\n",
    "\n",
    "    # Display mean test scores, along with their standard deviations, for each parameter set\n",
    "    for mean, std, params in zip(mean_scores, std_scores, parameters):\n",
    "        print('{} (+/- {}) for {}'.format(round(mean, 3), round(std * 2, 3), params))\n"
   ]
  },
  {
   "cell_type": "code",
   "execution_count": 44,
   "id": "47715d2f-5147-4ce1-9e48-c22d987ad07c",
   "metadata": {},
   "outputs": [
    {
     "name": "stdout",
     "output_type": "stream",
     "text": [
      "60\n",
      "60\n"
     ]
    }
   ],
   "source": [
    "\n",
    "print(train_features.shape[0])\n",
    "print(train_labels.shape[0])\n"
   ]
  },
  {
   "cell_type": "code",
   "execution_count": 64,
   "id": "bf567aa6-f01e-4482-ad81-b280764a92b8",
   "metadata": {},
   "outputs": [
    {
     "name": "stdout",
     "output_type": "stream",
     "text": [
      "BEST PARAMETERS: {'estimator__C': 10}\n",
      "\n",
      "0.0 (+/- 0.0) for {'estimator__C': 0.001}\n",
      "0.017 (+/- 0.047) for {'estimator__C': 0.01}\n",
      "0.117 (+/- 0.125) for {'estimator__C': 0.1}\n",
      "0.217 (+/- 0.17) for {'estimator__C': 1}\n",
      "0.233 (+/- 0.262) for {'estimator__C': 10}\n",
      "0.2 (+/- 0.216) for {'estimator__C': 100}\n",
      "0.233 (+/- 0.189) for {'estimator__C': 1000}\n"
     ]
    }
   ],
   "source": [
    "# Create a logistic regression model\n",
    "lr = LogisticRegression(max_iter=1000)\n",
    "\n",
    "# Use the MultiOutputClassifier for multi-output classification\n",
    "multi_output_classifier = MultiOutputClassifier(lr)\n",
    "\n",
    "# Set up the parameter grid for grid search\n",
    "parameters = {\n",
    "    'estimator__C': [ 0.001,0.01, 0.1, 1, 10, 100, 1000]\n",
    "}\n",
    "\n",
    "# Perform grid search\n",
    "cv = GridSearchCV(multi_output_classifier, parameters, cv=3)\n",
    "cv.fit(train_features, train_labels)\n",
    "\n",
    "# Display the results\n",
    "print_result(cv)\n"
   ]
  },
  {
   "cell_type": "code",
   "execution_count": 65,
   "id": "9b8e3cf0-954a-4536-b698-f9a1763a178a",
   "metadata": {},
   "outputs": [
    {
     "name": "stdout",
     "output_type": "stream",
     "text": [
      "    Q1   Q2   Q3   Q4   Q5   Q6   Q7   Q8   Q9  Q10  Q11  Q12  Q13  Q14  Q15  \\\n",
      "0  0.0  0.0  0.0  0.0  0.0  0.0  0.0  0.0  0.0  0.0  0.0  0.0  1.0  1.0  1.0   \n",
      "1  0.0  1.0  1.0  0.0  0.0  0.0  0.0  1.0  1.0  0.0  0.0  0.0  0.0  1.0  1.0   \n",
      "2  1.0  1.0  0.0  0.0  1.0  0.0  1.0  1.0  0.0  1.0  1.0  1.0  1.0  1.0  0.0   \n",
      "3  1.0  1.0  1.0  1.0  1.0  1.0  0.0  1.0  1.0  1.0  1.0  1.0  1.0  1.0  0.0   \n",
      "4  1.0  1.0  0.0  0.0  0.0  0.0  1.0  1.0  0.0  0.0  0.0  0.0  1.0  1.0  0.0   \n",
      "\n",
      "   T_Cor  \n",
      "0    3.0  \n",
      "1    6.0  \n",
      "2   10.0  \n",
      "3   13.0  \n",
      "4    6.0  \n",
      "   O_Cor  I_Cor  P_Co  Top_Cat  Low_Cat\n",
      "0    1.0    1.0   1.0      7.0      7.0\n",
      "1    0.0    3.0   3.0      6.0      1.0\n",
      "2    4.0    1.0   5.0      2.0      3.0\n",
      "3    4.0    4.0   5.0      2.0      5.0\n",
      "4    3.0    0.0   3.0      4.0      3.0\n"
     ]
    }
   ],
   "source": [
    "print(train_features.head())\n",
    "print(train_labels.head())\n"
   ]
  },
  {
   "cell_type": "code",
   "execution_count": 66,
   "id": "d2be9bc7-3a2e-4a4f-9290-d5a026e8f635",
   "metadata": {},
   "outputs": [
    {
     "data": {
      "text/html": [
       "<style>#sk-container-id-5 {color: black;}#sk-container-id-5 pre{padding: 0;}#sk-container-id-5 div.sk-toggleable {background-color: white;}#sk-container-id-5 label.sk-toggleable__label {cursor: pointer;display: block;width: 100%;margin-bottom: 0;padding: 0.3em;box-sizing: border-box;text-align: center;}#sk-container-id-5 label.sk-toggleable__label-arrow:before {content: \"▸\";float: left;margin-right: 0.25em;color: #696969;}#sk-container-id-5 label.sk-toggleable__label-arrow:hover:before {color: black;}#sk-container-id-5 div.sk-estimator:hover label.sk-toggleable__label-arrow:before {color: black;}#sk-container-id-5 div.sk-toggleable__content {max-height: 0;max-width: 0;overflow: hidden;text-align: left;background-color: #f0f8ff;}#sk-container-id-5 div.sk-toggleable__content pre {margin: 0.2em;color: black;border-radius: 0.25em;background-color: #f0f8ff;}#sk-container-id-5 input.sk-toggleable__control:checked~div.sk-toggleable__content {max-height: 200px;max-width: 100%;overflow: auto;}#sk-container-id-5 input.sk-toggleable__control:checked~label.sk-toggleable__label-arrow:before {content: \"▾\";}#sk-container-id-5 div.sk-estimator input.sk-toggleable__control:checked~label.sk-toggleable__label {background-color: #d4ebff;}#sk-container-id-5 div.sk-label input.sk-toggleable__control:checked~label.sk-toggleable__label {background-color: #d4ebff;}#sk-container-id-5 input.sk-hidden--visually {border: 0;clip: rect(1px 1px 1px 1px);clip: rect(1px, 1px, 1px, 1px);height: 1px;margin: -1px;overflow: hidden;padding: 0;position: absolute;width: 1px;}#sk-container-id-5 div.sk-estimator {font-family: monospace;background-color: #f0f8ff;border: 1px dotted black;border-radius: 0.25em;box-sizing: border-box;margin-bottom: 0.5em;}#sk-container-id-5 div.sk-estimator:hover {background-color: #d4ebff;}#sk-container-id-5 div.sk-parallel-item::after {content: \"\";width: 100%;border-bottom: 1px solid gray;flex-grow: 1;}#sk-container-id-5 div.sk-label:hover label.sk-toggleable__label {background-color: #d4ebff;}#sk-container-id-5 div.sk-serial::before {content: \"\";position: absolute;border-left: 1px solid gray;box-sizing: border-box;top: 0;bottom: 0;left: 50%;z-index: 0;}#sk-container-id-5 div.sk-serial {display: flex;flex-direction: column;align-items: center;background-color: white;padding-right: 0.2em;padding-left: 0.2em;position: relative;}#sk-container-id-5 div.sk-item {position: relative;z-index: 1;}#sk-container-id-5 div.sk-parallel {display: flex;align-items: stretch;justify-content: center;background-color: white;position: relative;}#sk-container-id-5 div.sk-item::before, #sk-container-id-5 div.sk-parallel-item::before {content: \"\";position: absolute;border-left: 1px solid gray;box-sizing: border-box;top: 0;bottom: 0;left: 50%;z-index: -1;}#sk-container-id-5 div.sk-parallel-item {display: flex;flex-direction: column;z-index: 1;position: relative;background-color: white;}#sk-container-id-5 div.sk-parallel-item:first-child::after {align-self: flex-end;width: 50%;}#sk-container-id-5 div.sk-parallel-item:last-child::after {align-self: flex-start;width: 50%;}#sk-container-id-5 div.sk-parallel-item:only-child::after {width: 0;}#sk-container-id-5 div.sk-dashed-wrapped {border: 1px dashed gray;margin: 0 0.4em 0.5em 0.4em;box-sizing: border-box;padding-bottom: 0.4em;background-color: white;}#sk-container-id-5 div.sk-label label {font-family: monospace;font-weight: bold;display: inline-block;line-height: 1.2em;}#sk-container-id-5 div.sk-label-container {text-align: center;}#sk-container-id-5 div.sk-container {/* jupyter's `normalize.less` sets `[hidden] { display: none; }` but bootstrap.min.css set `[hidden] { display: none !important; }` so we also need the `!important` here to be able to override the default hidden behavior on the sphinx rendered scikit-learn.org. See: https://github.com/scikit-learn/scikit-learn/issues/21755 */display: inline-block !important;position: relative;}#sk-container-id-5 div.sk-text-repr-fallback {display: none;}</style><div id=\"sk-container-id-5\" class=\"sk-top-container\"><div class=\"sk-text-repr-fallback\"><pre>MultiOutputClassifier(estimator=LogisticRegression(C=10, max_iter=1000))</pre><b>In a Jupyter environment, please rerun this cell to show the HTML representation or trust the notebook. <br />On GitHub, the HTML representation is unable to render, please try loading this page with nbviewer.org.</b></div><div class=\"sk-container\" hidden><div class=\"sk-item sk-dashed-wrapped\"><div class=\"sk-label-container\"><div class=\"sk-label sk-toggleable\"><input class=\"sk-toggleable__control sk-hidden--visually\" id=\"sk-estimator-id-13\" type=\"checkbox\" ><label for=\"sk-estimator-id-13\" class=\"sk-toggleable__label sk-toggleable__label-arrow\">MultiOutputClassifier</label><div class=\"sk-toggleable__content\"><pre>MultiOutputClassifier(estimator=LogisticRegression(C=10, max_iter=1000))</pre></div></div></div><div class=\"sk-parallel\"><div class=\"sk-parallel-item\"><div class=\"sk-item\"><div class=\"sk-label-container\"><div class=\"sk-label sk-toggleable\"><input class=\"sk-toggleable__control sk-hidden--visually\" id=\"sk-estimator-id-14\" type=\"checkbox\" ><label for=\"sk-estimator-id-14\" class=\"sk-toggleable__label sk-toggleable__label-arrow\">estimator: LogisticRegression</label><div class=\"sk-toggleable__content\"><pre>LogisticRegression(C=10, max_iter=1000)</pre></div></div></div><div class=\"sk-serial\"><div class=\"sk-item\"><div class=\"sk-estimator sk-toggleable\"><input class=\"sk-toggleable__control sk-hidden--visually\" id=\"sk-estimator-id-15\" type=\"checkbox\" ><label for=\"sk-estimator-id-15\" class=\"sk-toggleable__label sk-toggleable__label-arrow\">LogisticRegression</label><div class=\"sk-toggleable__content\"><pre>LogisticRegression(C=10, max_iter=1000)</pre></div></div></div></div></div></div></div></div></div></div>"
      ],
      "text/plain": [
       "MultiOutputClassifier(estimator=LogisticRegression(C=10, max_iter=1000))"
      ]
     },
     "execution_count": 66,
     "metadata": {},
     "output_type": "execute_result"
    }
   ],
   "source": [
    "cv.best_estimator_"
   ]
  },
  {
   "cell_type": "code",
   "execution_count": 67,
   "id": "f60deb12-7a3a-4143-a542-777fc8b2f44c",
   "metadata": {},
   "outputs": [
    {
     "data": {
      "text/plain": [
       "['Multi_output_LR_model.pkl']"
      ]
     },
     "execution_count": 67,
     "metadata": {},
     "output_type": "execute_result"
    }
   ],
   "source": [
    "joblib.dump(cv.best_estimator_,'Multi_output_LR_model.pkl')"
   ]
  },
  {
   "cell_type": "code",
   "execution_count": null,
   "id": "2e3cd5c1-1875-4373-9d6a-1a51786c8950",
   "metadata": {},
   "outputs": [],
   "source": []
  },
  {
   "cell_type": "code",
   "execution_count": null,
   "id": "7e62daa6-5053-4a4c-a62c-1eb0f1e3bf7e",
   "metadata": {},
   "outputs": [],
   "source": []
  }
 ],
 "metadata": {
  "kernelspec": {
   "display_name": "Python 3 (ipykernel)",
   "language": "python",
   "name": "python3"
  },
  "language_info": {
   "codemirror_mode": {
    "name": "ipython",
    "version": 3
   },
   "file_extension": ".py",
   "mimetype": "text/x-python",
   "name": "python",
   "nbconvert_exporter": "python",
   "pygments_lexer": "ipython3",
   "version": "3.11.5"
  }
 },
 "nbformat": 4,
 "nbformat_minor": 5
}
