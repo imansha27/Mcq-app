{
 "cells": [
  {
   "cell_type": "code",
   "execution_count": 2,
   "id": "415bde17-928f-4b23-a10e-73147773d36b",
   "metadata": {},
   "outputs": [],
   "source": [
    "import joblib\n",
    "import pandas as pd\n",
    "from sklearn.neighbors import KNeighborsClassifier\n",
    "from sklearn.model_selection import GridSearchCV\n",
    "from sklearn.multioutput import MultiOutputClassifier\n",
    "import warnings\n",
    "# Ignore FutureWarning and DeprecationWarning\n",
    "warnings.filterwarnings('ignore', category=FutureWarning)\n",
    "warnings.filterwarnings('ignore', category=DeprecationWarning)"
   ]
  },
  {
   "cell_type": "code",
   "execution_count": 3,
   "id": "fe3f1795-9ef0-4ed4-bcb8-2f7f524a4e83",
   "metadata": {},
   "outputs": [],
   "source": [
    "target_variables = ['O_Cor', 'I_Cor', 'P_Co', 'Top_Cat', 'Low_Cat']\n",
    "\n",
    "train_features = pd.read_csv('train_features.csv')\n",
    "train_labels = pd.read_csv('train_labels.csv')[target_variables]"
   ]
  },
  {
   "cell_type": "code",
   "execution_count": 4,
   "id": "57068bcb-5f3a-481c-a3ab-6212151d3d0a",
   "metadata": {},
   "outputs": [],
   "source": [
    "def print_result(results):\n",
    "    # Display the best parameters found during grid search\n",
    "    print('BEST PARAMETERS: {}\\n'.format(results.best_params_))\n",
    "\n",
    "    # Extract mean test scores, standard deviations, and corresponding parameter sets\n",
    "    mean_scores = results.cv_results_['mean_test_score']\n",
    "    std_scores = results.cv_results_['std_test_score']\n",
    "    parameters = results.cv_results_['params']\n",
    "\n",
    "    # Display mean test scores, along with their standard deviations, for each parameter set\n",
    "    for mean, std, params in zip(mean_scores, std_scores, parameters):\n",
    "        print('{} (+/- {}) for {}'.format(round(mean, 3), round(std * 2, 3), params))"
   ]
  },
  {
   "cell_type": "code",
   "execution_count": 5,
   "id": "c984a630-9bd3-49f1-b6ad-3bce274e9b6c",
   "metadata": {},
   "outputs": [
    {
     "name": "stdout",
     "output_type": "stream",
     "text": [
      "BEST PARAMETERS: {'estimator__n_neighbors': 3, 'estimator__p': 1, 'estimator__weights': 'distance'}\n",
      "\n",
      "0.117 (+/- 0.125) for {'estimator__n_neighbors': 3, 'estimator__p': 1, 'estimator__weights': 'uniform'}\n",
      "0.233 (+/- 0.17) for {'estimator__n_neighbors': 3, 'estimator__p': 1, 'estimator__weights': 'distance'}\n",
      "0.133 (+/- 0.094) for {'estimator__n_neighbors': 3, 'estimator__p': 2, 'estimator__weights': 'uniform'}\n",
      "0.233 (+/- 0.094) for {'estimator__n_neighbors': 3, 'estimator__p': 2, 'estimator__weights': 'distance'}\n",
      "0.117 (+/- 0.125) for {'estimator__n_neighbors': 5, 'estimator__p': 1, 'estimator__weights': 'uniform'}\n",
      "0.2 (+/- 0.245) for {'estimator__n_neighbors': 5, 'estimator__p': 1, 'estimator__weights': 'distance'}\n",
      "0.117 (+/- 0.125) for {'estimator__n_neighbors': 5, 'estimator__p': 2, 'estimator__weights': 'uniform'}\n",
      "0.2 (+/- 0.163) for {'estimator__n_neighbors': 5, 'estimator__p': 2, 'estimator__weights': 'distance'}\n",
      "0.133 (+/- 0.094) for {'estimator__n_neighbors': 7, 'estimator__p': 1, 'estimator__weights': 'uniform'}\n",
      "0.233 (+/- 0.17) for {'estimator__n_neighbors': 7, 'estimator__p': 1, 'estimator__weights': 'distance'}\n",
      "0.117 (+/- 0.125) for {'estimator__n_neighbors': 7, 'estimator__p': 2, 'estimator__weights': 'uniform'}\n",
      "0.217 (+/- 0.125) for {'estimator__n_neighbors': 7, 'estimator__p': 2, 'estimator__weights': 'distance'}\n"
     ]
    }
   ],
   "source": [
    "# Create MultiOutputClassifier with an inner KNN classifier\n",
    "knn = KNeighborsClassifier()\n",
    "multi_output_classifier = MultiOutputClassifier(knn)\n",
    "\n",
    "# Define parameters for grid search\n",
    "parameters = {\n",
    "    'estimator__n_neighbors': [3, 5, 7],\n",
    "    'estimator__weights': ['uniform', 'distance'],\n",
    "    'estimator__p': [1, 2]  # p=1 for Manhattan distance, p=2 for Euclidean distance\n",
    "}\n",
    "\n",
    "# Perform grid search\n",
    "cv = GridSearchCV(multi_output_classifier, parameters, cv=3)\n",
    "cv.fit(train_features, train_labels)\n",
    "\n",
    "# Display the results\n",
    "print_result(cv)"
   ]
  },
  {
   "cell_type": "code",
   "execution_count": 6,
   "id": "0dd916e7-9e7f-402d-8097-d963703c373a",
   "metadata": {},
   "outputs": [
    {
     "data": {
      "text/plain": [
       "['Multi_output_KNN_model.pkl']"
      ]
     },
     "execution_count": 6,
     "metadata": {},
     "output_type": "execute_result"
    }
   ],
   "source": [
    "joblib.dump(cv.best_estimator_,'Multi_output_KNN_model.pkl')"
   ]
  },
  {
   "cell_type": "code",
   "execution_count": null,
   "id": "0cecf8ef-67bf-44be-bfb8-3a2f1b38250b",
   "metadata": {},
   "outputs": [],
   "source": []
  }
 ],
 "metadata": {
  "kernelspec": {
   "display_name": "Python 3 (ipykernel)",
   "language": "python",
   "name": "python3"
  },
  "language_info": {
   "codemirror_mode": {
    "name": "ipython",
    "version": 3
   },
   "file_extension": ".py",
   "mimetype": "text/x-python",
   "name": "python",
   "nbconvert_exporter": "python",
   "pygments_lexer": "ipython3",
   "version": "3.11.5"
  }
 },
 "nbformat": 4,
 "nbformat_minor": 5
}
